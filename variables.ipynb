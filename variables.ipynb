{
 "cells": [
  {
   "cell_type": "markdown",
   "id": "4997d563",
   "metadata": {},
   "source": [
    "# Python variables\n",
    "\n",
    "### Types of variables:\n",
    "- Numbers : int - Float - complex\n",
    "- Strings\n",
    "- Booleans\n",
    "- Lists:\n",
    "- Tuples:\n",
    "- Sets:\n",
    "- Dictionaries:\n",
    "\n",
    "### Functions:\n",
    "- type( )\n",
    "- print( )\n",
    "- append( )"
   ]
  },
  {
   "cell_type": "markdown",
   "id": "bcf7b3c9",
   "metadata": {},
   "source": [
    "## Numbers"
   ]
  },
  {
   "cell_type": "code",
   "execution_count": 1,
   "id": "57b8d995",
   "metadata": {},
   "outputs": [
    {
     "name": "stdout",
     "output_type": "stream",
     "text": [
      "<class 'int'> <class 'float'> <class 'complex'>\n",
      "5 5.4 7j\n"
     ]
    }
   ],
   "source": [
    "# int\n",
    "a= 5\n",
    "# Float\n",
    "b= 5.4\n",
    "# complex\n",
    "c= 7J\n",
    "print(type(a),type(b),type(c))\n",
    "print(a,b,c)"
   ]
  },
  {
   "cell_type": "markdown",
   "id": "3d636f1f",
   "metadata": {},
   "source": [
    "## Booleans"
   ]
  },
  {
   "cell_type": "code",
   "execution_count": 2,
   "id": "f8ea8325",
   "metadata": {},
   "outputs": [
    {
     "name": "stdout",
     "output_type": "stream",
     "text": [
      "<class 'bool'> <class 'bool'>\n",
      "True False\n"
     ]
    }
   ],
   "source": [
    "d= True ; e= False\n",
    "print(type(d),type(e))\n",
    "print(d,e)"
   ]
  },
  {
   "cell_type": "markdown",
   "id": "38d19f3d",
   "metadata": {},
   "source": [
    "## Strings"
   ]
  },
  {
   "cell_type": "code",
   "execution_count": 3,
   "id": "b3f128ce",
   "metadata": {},
   "outputs": [
    {
     "name": "stdout",
     "output_type": "stream",
     "text": [
      "<class 'str'> <class 'str'>\n",
      "How are you? Fine\n"
     ]
    }
   ],
   "source": [
    "f= 'How are you?'\n",
    "g= \"Fine\"\n",
    "print(type(f),type(g))\n",
    "print(f,g)"
   ]
  },
  {
   "cell_type": "markdown",
   "id": "ca091141",
   "metadata": {},
   "source": [
    "## Lists"
   ]
  },
  {
   "cell_type": "markdown",
   "id": "66a0a73b",
   "metadata": {},
   "source": [
    "Mutable & Ordered & scalable"
   ]
  },
  {
   "cell_type": "code",
   "execution_count": 4,
   "id": "fe236c72",
   "metadata": {},
   "outputs": [
    {
     "name": "stdout",
     "output_type": "stream",
     "text": [
      "<class 'list'> <class 'list'> <class 'list'> <class 'list'> <class 'list'> <class 'list'>\n",
      "[] [1, 2, 3, 4] [1.1, 2.2, 3.3, 4.4] [True, False, True, False] ['A', 'B', 'C'] [1, 1.1, True, 'A']\n"
     ]
    }
   ],
   "source": [
    "h = []             \n",
    "i = [1, 2, 3, 4] \n",
    "j = [1.1,2.2,3.3,4.4]\n",
    "k = [True,False,True,False]\n",
    "l = ['A', 'B', 'C'] \n",
    "m = [1, 1.1, True, 'A']   \n",
    "print(type(h),type(i),type(j),type(k),type(l),type(m))\n",
    "print(h,i,j,k,l,m)"
   ]
  },
  {
   "cell_type": "code",
   "execution_count": 5,
   "id": "3214bfc5",
   "metadata": {},
   "outputs": [
    {
     "name": "stdout",
     "output_type": "stream",
     "text": [
      "<class 'list'>\n",
      "['A', 'B', 'c', 'D']\n"
     ]
    }
   ],
   "source": [
    "n = [str]*3\n",
    "n[0]='A';n[1]='B';n[2]='c'\n",
    "n.append('D')\n",
    "print(type(n))\n",
    "print(n)"
   ]
  },
  {
   "cell_type": "markdown",
   "id": "b3115c05",
   "metadata": {},
   "source": [
    "## Tuples"
   ]
  },
  {
   "cell_type": "markdown",
   "id": "c6c7b9fb",
   "metadata": {},
   "source": [
    "Immutable & Ordered & fixed"
   ]
  },
  {
   "cell_type": "code",
   "execution_count": 6,
   "id": "38c4012b",
   "metadata": {},
   "outputs": [
    {
     "name": "stdout",
     "output_type": "stream",
     "text": [
      "<class 'tuple'> <class 'tuple'> <class 'tuple'> <class 'tuple'> <class 'tuple'> <class 'tuple'>\n",
      "() (1, 2, 3, 4) (1.1, 2.2, 3.3, 4.4) (True, False, True, False) ('A', 'B', 'C') (1, 1.1, True, 'A')\n"
     ]
    }
   ],
   "source": [
    "o = ()             \n",
    "p = (1, 2, 3, 4)\n",
    "q = (1.1,2.2,3.3,4.4)\n",
    "r = (True,False,True,False)\n",
    "s = ('A', 'B', 'C')\n",
    "t = (1, 1.1, True, 'A')\n",
    "print(type(o),type(p),type(q),type(r),type(s),type(t))\n",
    "print(o,p,q,r,s,t)"
   ]
  },
  {
   "cell_type": "markdown",
   "id": "1e7ba1d4",
   "metadata": {},
   "source": [
    "## Sets"
   ]
  },
  {
   "cell_type": "markdown",
   "id": "10ff1a3e",
   "metadata": {},
   "source": [
    "Immutable & unordered & scalable"
   ]
  },
  {
   "cell_type": "code",
   "execution_count": 7,
   "id": "e219ef46",
   "metadata": {},
   "outputs": [
    {
     "name": "stdout",
     "output_type": "stream",
     "text": [
      "<class 'dict'> <class 'set'> <class 'set'> <class 'set'> <class 'set'> <class 'set'>\n",
      "{} {1, 2, 3, 4} {1.1, 2.2, 3.3, 4.4} {False, True} {'B', 'C', 'A'} {1, 'A', 1.1}\n"
     ]
    }
   ],
   "source": [
    "u = {}            \n",
    "v = {1, 2, 3, 4}\n",
    "w = {1.1,2.2,3.3,4.4}\n",
    "x = {True,False,True,False}\n",
    "y = {'A', 'B', 'C'}\n",
    "z = {1, 1.1, True, 'A'}\n",
    "print(type(u),type(v),type(w),type(x),type(y),type(z))\n",
    "print(u,v,w,x,y,z)"
   ]
  },
  {
   "cell_type": "markdown",
   "id": "3010d9c6",
   "metadata": {},
   "source": [
    "## Dictionaries"
   ]
  },
  {
   "cell_type": "markdown",
   "id": "a74f5c6a",
   "metadata": {},
   "source": [
    "Mutable & unordered"
   ]
  },
  {
   "cell_type": "code",
   "execution_count": 8,
   "id": "d1c027a8",
   "metadata": {},
   "outputs": [
    {
     "name": "stdout",
     "output_type": "stream",
     "text": [
      "<class 'dict'>\n",
      "{1: 'one', 2: 'tow', 3: 'three'}\n"
     ]
    }
   ],
   "source": [
    "dictionary = {1:'one',2: 'tow',3: 'three'}\n",
    "print(type(dictionary))\n",
    "print(dictionary)"
   ]
  }
 ],
 "metadata": {
  "kernelspec": {
   "display_name": "Python 3 (ipykernel)",
   "language": "python",
   "name": "python3"
  },
  "language_info": {
   "codemirror_mode": {
    "name": "ipython",
    "version": 3
   },
   "file_extension": ".py",
   "mimetype": "text/x-python",
   "name": "python",
   "nbconvert_exporter": "python",
   "pygments_lexer": "ipython3",
   "version": "3.8.8"
  }
 },
 "nbformat": 4,
 "nbformat_minor": 5
}

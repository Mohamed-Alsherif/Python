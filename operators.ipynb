{
 "cells": [
  {
   "cell_type": "markdown",
   "id": "7baa97fb",
   "metadata": {},
   "source": [
    "# Python operators"
   ]
  },
  {
   "cell_type": "markdown",
   "id": "f67087cf",
   "metadata": {},
   "source": [
    "## Types of operators:\n",
    "- Arithmetic Operators\n",
    "- Comparison Operators\n",
    "- Logical Operators\n",
    "- Bitwise Operators\n",
    "- Assignment Operators\n",
    "- Identity Operators\n",
    "- Membership Operators"
   ]
  },
  {
   "cell_type": "markdown",
   "id": "be0302ce",
   "metadata": {},
   "source": [
    "## Arithmetic Operators"
   ]
  },
  {
   "cell_type": "markdown",
   "id": "70763fdb",
   "metadata": {},
   "source": [
    "- Assignment Operator =\n",
    "- Addition Operator +\n",
    "- Subtraction Operator -\n",
    "- Unary-Plus Operator +\n",
    "- Unary-Minus Operator -\n",
    "- Multiplication Operator *\n",
    "- Exponential Operator **\n",
    "- Division Operator /\n",
    "- Floor Division Operator //\n",
    "- Modulo Operator %"
   ]
  },
  {
   "cell_type": "code",
   "execution_count": 25,
   "id": "67269320",
   "metadata": {},
   "outputs": [
    {
     "name": "stdout",
     "output_type": "stream",
     "text": [
      "<class 'int'> <class 'int'>\n",
      "1 1\n"
     ]
    }
   ],
   "source": [
    "#Assignment Operator =\n",
    "a = 1\n",
    "b = a\n",
    "print(type(a),type(b))\n",
    "print(a,b)"
   ]
  },
  {
   "cell_type": "code",
   "execution_count": 23,
   "id": "2502180e",
   "metadata": {},
   "outputs": [
    {
     "name": "stdout",
     "output_type": "stream",
     "text": [
      "<class 'int'>\n",
      "3\n"
     ]
    }
   ],
   "source": [
    "#Addition Operator +\n",
    "c = 1; d= 2\n",
    "e = c + d\n",
    "print(type(e))\n",
    "print(e)"
   ]
  },
  {
   "cell_type": "code",
   "execution_count": 22,
   "id": "688d4d5d",
   "metadata": {},
   "outputs": [
    {
     "name": "stdout",
     "output_type": "stream",
     "text": [
      "<class 'int'>\n",
      "1\n"
     ]
    }
   ],
   "source": [
    "#Subtraction Operator -\n",
    "f = 1; g= 2\n",
    "h = g - f\n",
    "print(type(h))\n",
    "print(h)"
   ]
  },
  {
   "cell_type": "code",
   "execution_count": 21,
   "id": "fdd08914",
   "metadata": {},
   "outputs": [
    {
     "name": "stdout",
     "output_type": "stream",
     "text": [
      "<class 'int'>\n",
      "1\n"
     ]
    }
   ],
   "source": [
    "# Unary-Plus Operator +\n",
    "i = 1\n",
    "j =+i\n",
    "print(type(j))\n",
    "print(j)"
   ]
  },
  {
   "cell_type": "code",
   "execution_count": 20,
   "id": "24dc09aa",
   "metadata": {},
   "outputs": [
    {
     "name": "stdout",
     "output_type": "stream",
     "text": [
      "<class 'int'>\n",
      "-1\n"
     ]
    }
   ],
   "source": [
    "#Unary-Minus Operator -\n",
    "k = 1\n",
    "l =-k\n",
    "print(type(l))\n",
    "print(l)"
   ]
  },
  {
   "cell_type": "code",
   "execution_count": 19,
   "id": "34017299",
   "metadata": {},
   "outputs": [
    {
     "name": "stdout",
     "output_type": "stream",
     "text": [
      "<class 'int'>\n",
      "6\n"
     ]
    }
   ],
   "source": [
    "#Multiplication Operator *\n",
    "m=2 ; n=3\n",
    "o = m*n\n",
    "print(type(o))\n",
    "print(o)"
   ]
  },
  {
   "cell_type": "code",
   "execution_count": 18,
   "id": "1a803cf8",
   "metadata": {},
   "outputs": [
    {
     "name": "stdout",
     "output_type": "stream",
     "text": [
      "<class 'int'>\n",
      "8\n"
     ]
    }
   ],
   "source": [
    "#Exponential Operator **\n",
    "p = 2 ; q = 3\n",
    "r = p**q\n",
    "print(type(r))\n",
    "print(r)"
   ]
  },
  {
   "cell_type": "code",
   "execution_count": 17,
   "id": "bab34128",
   "metadata": {},
   "outputs": [
    {
     "name": "stdout",
     "output_type": "stream",
     "text": [
      "<class 'float'>\n",
      "3.0\n"
     ]
    }
   ],
   "source": [
    "#Division Operator /\n",
    "s=6 ; t=2\n",
    "u = s/t\n",
    "print(type(u))\n",
    "print(u)"
   ]
  },
  {
   "cell_type": "code",
   "execution_count": 27,
   "id": "0010015e",
   "metadata": {},
   "outputs": [
    {
     "name": "stdout",
     "output_type": "stream",
     "text": [
      "<class 'int'>\n",
      "2\n"
     ]
    }
   ],
   "source": [
    "#Floor Division Operator //\n",
    "v=5 ; w=2\n",
    "x = v//w\n",
    "print(type(x))\n",
    "print(x)"
   ]
  },
  {
   "cell_type": "code",
   "execution_count": 29,
   "id": "03895649",
   "metadata": {},
   "outputs": [
    {
     "name": "stdout",
     "output_type": "stream",
     "text": [
      "<class 'int'>\n",
      "1\n"
     ]
    }
   ],
   "source": [
    "#Modulos Operator %\n",
    "y=5 ; z=2\n",
    "aa = y%z\n",
    "print(type(aa))\n",
    "print(aa)"
   ]
  },
  {
   "cell_type": "markdown",
   "id": "0d737631",
   "metadata": {},
   "source": [
    "## Comparison Operators"
   ]
  },
  {
   "cell_type": "markdown",
   "id": "8a129d8d",
   "metadata": {},
   "source": [
    "- Equal To Operator ==\n",
    "- Not Equal To Operator !=\n",
    "- Greater Than Operator >\n",
    "- Greater Than or Equal To Operator >=\n",
    "- Less Than Operator <\n",
    "- Less Than or Equal To Operator <="
   ]
  },
  {
   "cell_type": "code",
   "execution_count": 40,
   "id": "a072d27f",
   "metadata": {},
   "outputs": [
    {
     "name": "stdout",
     "output_type": "stream",
     "text": [
      "<class 'bool'>\n",
      "True\n"
     ]
    }
   ],
   "source": [
    "# Equal To Operator ==\n",
    "ab = 1 ; ac=1\n",
    "print(type(ab==ac))\n",
    "print(ab==ac)"
   ]
  },
  {
   "cell_type": "code",
   "execution_count": 41,
   "id": "d82ed957",
   "metadata": {},
   "outputs": [
    {
     "name": "stdout",
     "output_type": "stream",
     "text": [
      "<class 'bool'>\n",
      "False\n"
     ]
    }
   ],
   "source": [
    "# notequal To Operator !=\n",
    "ad = 1 ; ae=1\n",
    "print(type(ad!=ae))\n",
    "print(ad!=ae)"
   ]
  },
  {
   "cell_type": "code",
   "execution_count": 53,
   "id": "770d4d47",
   "metadata": {},
   "outputs": [
    {
     "name": "stdout",
     "output_type": "stream",
     "text": [
      "<class 'bool'>\n",
      "False\n"
     ]
    }
   ],
   "source": [
    "#Greater Than Operator >\n",
    "af = 1 ; ag=2\n",
    "print(type(af>ag))\n",
    "print(af>ag)"
   ]
  },
  {
   "cell_type": "code",
   "execution_count": 54,
   "id": "1a9a6759",
   "metadata": {},
   "outputs": [
    {
     "name": "stdout",
     "output_type": "stream",
     "text": [
      "<class 'bool'>\n",
      "True\n"
     ]
    }
   ],
   "source": [
    "#Greater Than or Equal To Operator >=\n",
    "ah = 1 ; ai=1\n",
    "print(type(ah>=ai))\n",
    "print(ah>=ai)"
   ]
  },
  {
   "cell_type": "code",
   "execution_count": 61,
   "id": "3643dc3f",
   "metadata": {},
   "outputs": [
    {
     "name": "stdout",
     "output_type": "stream",
     "text": [
      "<class 'bool'>\n",
      "False\n"
     ]
    }
   ],
   "source": [
    "#less Than Operator <\n",
    "aj = 2 ; ak=1\n",
    "print(type(aj<ak))\n",
    "print(aj<ak)"
   ]
  },
  {
   "cell_type": "code",
   "execution_count": 59,
   "id": "e647d7e6",
   "metadata": {},
   "outputs": [
    {
     "name": "stdout",
     "output_type": "stream",
     "text": [
      "<class 'bool'>\n",
      "True\n"
     ]
    }
   ],
   "source": [
    "#less Than or Equal To Operator <=\n",
    "al = 1 ; am=1\n",
    "print(type(al<=am))\n",
    "print(al<=am)"
   ]
  },
  {
   "cell_type": "markdown",
   "id": "1d5ae541",
   "metadata": {},
   "source": [
    "## Logical Operators"
   ]
  },
  {
   "cell_type": "markdown",
   "id": "90b30b4c",
   "metadata": {},
   "source": [
    "- AND\n",
    "- OR\n",
    "- NOT"
   ]
  },
  {
   "cell_type": "code",
   "execution_count": 65,
   "id": "800f40e6",
   "metadata": {},
   "outputs": [
    {
     "name": "stdout",
     "output_type": "stream",
     "text": [
      "<class 'bool'>\n",
      "True\n"
     ]
    }
   ],
   "source": [
    "# AND\n",
    "an = 1; ao = 2\n",
    "print(type(an==1 and  ao==2))\n",
    "print(an==1 and  ao==2)"
   ]
  },
  {
   "cell_type": "code",
   "execution_count": 66,
   "id": "c238c84b",
   "metadata": {},
   "outputs": [
    {
     "name": "stdout",
     "output_type": "stream",
     "text": [
      "<class 'bool'>\n",
      "True\n"
     ]
    }
   ],
   "source": [
    "# OR\n",
    "ap = 3; aq = 2\n",
    "print(type(ap==1 or  aq==2))\n",
    "print(ap==1 or  aq==2)"
   ]
  },
  {
   "cell_type": "code",
   "execution_count": 68,
   "id": "567fa466",
   "metadata": {},
   "outputs": [
    {
     "name": "stdout",
     "output_type": "stream",
     "text": [
      "<class 'bool'>\n",
      "True\n"
     ]
    }
   ],
   "source": [
    "# Not\n",
    "ar = 5\n",
    "print(type(not ar ==10))\n",
    "print(not ar ==10)"
   ]
  },
  {
   "cell_type": "markdown",
   "id": "b42561fc",
   "metadata": {},
   "source": [
    "## Bitwise Operators"
   ]
  },
  {
   "cell_type": "markdown",
   "id": "c21a0388",
   "metadata": {},
   "source": [
    "- Left Shift <<\n",
    "- Right Shift >>\n",
    "- Bitwize AND &\n",
    "- Bitwize OR |\n",
    "- Bitwize XOR ^\n",
    "- Bitwize Compliment OR ~"
   ]
  },
  {
   "cell_type": "code",
   "execution_count": 77,
   "id": "18b2b6cd",
   "metadata": {},
   "outputs": [
    {
     "name": "stdout",
     "output_type": "stream",
     "text": [
      "<class 'int'>\n",
      "12\n"
     ]
    }
   ],
   "source": [
    "#Left Shift <<\n",
    "at = 3        # binary 11   - decimal 3\n",
    "print(type(at<<2))\n",
    "print(at<<2)  # binary 1100 - decimal 12"
   ]
  },
  {
   "cell_type": "code",
   "execution_count": 82,
   "id": "1a98e915",
   "metadata": {},
   "outputs": [
    {
     "name": "stdout",
     "output_type": "stream",
     "text": [
      "3\n"
     ]
    }
   ],
   "source": [
    "#right Shift >>\n",
    "au = 12        # binary 1100 - decimal 12\n",
    "#print(type(au>>12))\n",
    "print(au>>2)  # binary 11   - decimal 3"
   ]
  },
  {
   "cell_type": "code",
   "execution_count": 87,
   "id": "8e16f92c",
   "metadata": {},
   "outputs": [
    {
     "name": "stdout",
     "output_type": "stream",
     "text": [
      "<class 'int'>\n",
      "4\n"
     ]
    }
   ],
   "source": [
    "#Bitwize AND &\n",
    "av = 12 # binary 1100 - decimal 12\n",
    "aw = 4  # binary 0100 - decimal 4\n",
    "print(type(av&aw))\n",
    "print(av&aw)# binary  100 - decimal 4"
   ]
  },
  {
   "cell_type": "code",
   "execution_count": 88,
   "id": "b93632d0",
   "metadata": {},
   "outputs": [
    {
     "name": "stdout",
     "output_type": "stream",
     "text": [
      "<class 'int'>\n",
      "12\n"
     ]
    }
   ],
   "source": [
    "#Bitwize OR |\n",
    "ax = 12 # binary 1100 - decimal 12\n",
    "ay = 4  # binary 0100 - decimal 4\n",
    "print(type(ax|ay))\n",
    "print(ax|ay)# binary 1100 - decimal 12"
   ]
  },
  {
   "cell_type": "code",
   "execution_count": 90,
   "id": "e79e24d2",
   "metadata": {},
   "outputs": [
    {
     "name": "stdout",
     "output_type": "stream",
     "text": [
      "<class 'int'>\n",
      "8\n"
     ]
    }
   ],
   "source": [
    "#Bitwize XOR ^\n",
    "az = 12 # binary 1100 - decimal 12\n",
    "aaa = 4 # binary 0100 - decimal 4\n",
    "print(type(az^aaa))\n",
    "print(az^aaa)# binary 1000 - decimal 8"
   ]
  },
  {
   "cell_type": "code",
   "execution_count": 96,
   "id": "a726397d",
   "metadata": {},
   "outputs": [
    {
     "name": "stdout",
     "output_type": "stream",
     "text": [
      "<class 'int'>\n",
      "-2\n"
     ]
    }
   ],
   "source": [
    "#Bitwize Compliment OR ~\n",
    "aab = 1     # binary 0000000000000001 - decimal 1\n",
    "print(type(~aab))\n",
    "print(~aab) # binary 1111111111111110 - decimal -2"
   ]
  },
  {
   "cell_type": "markdown",
   "id": "e9855c51",
   "metadata": {},
   "source": [
    "## Assignment Operators"
   ]
  },
  {
   "cell_type": "markdown",
   "id": "97c7af75",
   "metadata": {},
   "source": [
    "- Basic Assign\n",
    "- Add and Assign\n",
    "- Susbtract and Assign\n",
    "- Multiply and Assign\n",
    "- Exponent and Assign\n",
    "- Divide and Assign\n",
    "- Floor Divide and Assign\n",
    "- Modulo and Assign\n",
    "- Left shift and Assign\n",
    "- Right shift and Assign\n",
    "- Bitwise and Assign\n",
    "- Bitwise or Assign\n",
    "- Bitwise exclusive OR and Assign"
   ]
  },
  {
   "cell_type": "code",
   "execution_count": 98,
   "id": "7bfd3b60",
   "metadata": {},
   "outputs": [
    {
     "name": "stdout",
     "output_type": "stream",
     "text": [
      "<class 'int'>\n",
      "2\n"
     ]
    }
   ],
   "source": [
    "# Basic Assign\n",
    "aac = 2\n",
    "print(type(aac))\n",
    "print(aac)"
   ]
  },
  {
   "cell_type": "code",
   "execution_count": 99,
   "id": "33b66196",
   "metadata": {},
   "outputs": [
    {
     "name": "stdout",
     "output_type": "stream",
     "text": [
      "<class 'int'>\n",
      "4\n"
     ]
    }
   ],
   "source": [
    "# Add and Assign\n",
    "aad = 2\n",
    "aad += aac\n",
    "print(type(aad))\n",
    "print(aad)"
   ]
  },
  {
   "cell_type": "code",
   "execution_count": 100,
   "id": "d5f1355f",
   "metadata": {},
   "outputs": [
    {
     "name": "stdout",
     "output_type": "stream",
     "text": [
      "<class 'int'>\n",
      "0\n"
     ]
    }
   ],
   "source": [
    "# Susbtract and Assign\n",
    "aae = 2\n",
    "aae -= aac\n",
    "print(type(aae))\n",
    "print(aae)"
   ]
  },
  {
   "cell_type": "code",
   "execution_count": 101,
   "id": "ecc9e94e",
   "metadata": {},
   "outputs": [
    {
     "name": "stdout",
     "output_type": "stream",
     "text": [
      "<class 'int'>\n",
      "4\n"
     ]
    }
   ],
   "source": [
    "# Multiply and Assign\n",
    "aaf = 2\n",
    "aaf *= aac\n",
    "print(type(aaf))\n",
    "print(aaf)"
   ]
  },
  {
   "cell_type": "code",
   "execution_count": 102,
   "id": "5a73ae5d",
   "metadata": {},
   "outputs": [
    {
     "name": "stdout",
     "output_type": "stream",
     "text": [
      "<class 'int'>\n",
      "4\n"
     ]
    }
   ],
   "source": [
    "# Exponent and Assign\n",
    "aag = 2\n",
    "aag **= aac\n",
    "print(type(aag))\n",
    "print(aag)"
   ]
  },
  {
   "cell_type": "code",
   "execution_count": 103,
   "id": "faca3203",
   "metadata": {},
   "outputs": [
    {
     "name": "stdout",
     "output_type": "stream",
     "text": [
      "<class 'float'>\n",
      "1.0\n"
     ]
    }
   ],
   "source": [
    "# Divide and Assign\n",
    "aah = 2\n",
    "aah /= aac\n",
    "print(type(aah))\n",
    "print(aah)"
   ]
  },
  {
   "cell_type": "code",
   "execution_count": 104,
   "id": "26c363c0",
   "metadata": {},
   "outputs": [
    {
     "name": "stdout",
     "output_type": "stream",
     "text": [
      "<class 'int'>\n",
      "2\n"
     ]
    }
   ],
   "source": [
    "# Floor Divide and Assign\n",
    "aai = 5\n",
    "aai //= aac\n",
    "print(type(aai))\n",
    "print(aai)"
   ]
  },
  {
   "cell_type": "code",
   "execution_count": 105,
   "id": "ace15d44",
   "metadata": {},
   "outputs": [
    {
     "name": "stdout",
     "output_type": "stream",
     "text": [
      "<class 'int'>\n",
      "1\n"
     ]
    }
   ],
   "source": [
    "# Modulos and Assign\n",
    "aaj = 5\n",
    "aaj %= aac\n",
    "print(type(aaj))\n",
    "print(aaj)"
   ]
  },
  {
   "cell_type": "code",
   "execution_count": 106,
   "id": "39339078",
   "metadata": {},
   "outputs": [
    {
     "name": "stdout",
     "output_type": "stream",
     "text": [
      "<class 'int'>\n",
      "16\n"
     ]
    }
   ],
   "source": [
    "# Left shift and Assign\n",
    "aak = 4\n",
    "aak <<= 2\n",
    "print(type(aak))\n",
    "print(aak)"
   ]
  },
  {
   "cell_type": "code",
   "execution_count": 107,
   "id": "ed6a15b1",
   "metadata": {},
   "outputs": [
    {
     "name": "stdout",
     "output_type": "stream",
     "text": [
      "<class 'int'>\n",
      "1\n"
     ]
    }
   ],
   "source": [
    "# Right shift and Assign\n",
    "aal = 4\n",
    "aal >>= 2\n",
    "print(type(aal))\n",
    "print(aal)"
   ]
  },
  {
   "cell_type": "code",
   "execution_count": 108,
   "id": "f8dcb11f",
   "metadata": {},
   "outputs": [
    {
     "name": "stdout",
     "output_type": "stream",
     "text": [
      "<class 'int'>\n",
      "2\n"
     ]
    }
   ],
   "source": [
    "# Bitwise and Assign\n",
    "aam = 3\n",
    "aam &= aac\n",
    "print(type(aam))\n",
    "print(aam)"
   ]
  },
  {
   "cell_type": "code",
   "execution_count": 109,
   "id": "31a2cd0e",
   "metadata": {},
   "outputs": [
    {
     "name": "stdout",
     "output_type": "stream",
     "text": [
      "<class 'int'>\n",
      "3\n"
     ]
    }
   ],
   "source": [
    "# Bitwise or Assign\n",
    "aam = 3\n",
    "aam |= aac\n",
    "print(type(aam))\n",
    "print(aam)"
   ]
  },
  {
   "cell_type": "code",
   "execution_count": 110,
   "id": "6f2fa563",
   "metadata": {},
   "outputs": [
    {
     "name": "stdout",
     "output_type": "stream",
     "text": [
      "<class 'int'>\n",
      "1\n"
     ]
    }
   ],
   "source": [
    "# Bitwise exclusive OR and Assign\n",
    "aan = 3\n",
    "aan ^= aac\n",
    "print(type(aan))\n",
    "print(aan)"
   ]
  },
  {
   "cell_type": "markdown",
   "id": "f02a45d0",
   "metadata": {},
   "source": [
    "## Identity Operators"
   ]
  },
  {
   "cell_type": "markdown",
   "id": "4f43ea65",
   "metadata": {},
   "source": [
    "- is operator\n",
    "- is not operator"
   ]
  },
  {
   "cell_type": "code",
   "execution_count": 112,
   "id": "5e3cb519",
   "metadata": {},
   "outputs": [
    {
     "name": "stdout",
     "output_type": "stream",
     "text": [
      "<class 'bool'>\n",
      "2709419705152 2709414028928\n",
      "False\n"
     ]
    }
   ],
   "source": [
    "# is operator\n",
    "oaa = [10,20,30]\n",
    "paa = [10,20,30]\n",
    "print(type(oaa is paa))\n",
    "print(id(oaa),id(paa))\n",
    "print(oaa is paa)"
   ]
  },
  {
   "cell_type": "code",
   "execution_count": 113,
   "id": "91ba1213",
   "metadata": {},
   "outputs": [
    {
     "name": "stdout",
     "output_type": "stream",
     "text": [
      "<class 'bool'>\n",
      "2709422053952 2709421453120\n",
      "True\n"
     ]
    }
   ],
   "source": [
    "# is not operator\n",
    "qaa = [10,20,30]\n",
    "raa = [10,20,30]\n",
    "print(type(qaa is raa))\n",
    "print(id(qaa),id(raa))\n",
    "print(qaa is not raa)"
   ]
  },
  {
   "cell_type": "markdown",
   "id": "8b23382a",
   "metadata": {},
   "source": [
    "## Membership Operators"
   ]
  },
  {
   "cell_type": "markdown",
   "id": "cf6cf667",
   "metadata": {},
   "source": [
    "- in operator\n",
    "- not in operator"
   ]
  },
  {
   "cell_type": "code",
   "execution_count": 117,
   "id": "f5ef4a64",
   "metadata": {},
   "outputs": [
    {
     "name": "stdout",
     "output_type": "stream",
     "text": [
      "<class 'bool'>\n",
      "140712611227728 2709417215296\n",
      "True\n"
     ]
    }
   ],
   "source": [
    "# in operator\n",
    "saa = [10,20,30]\n",
    "taa = 10\n",
    "print(type(taa in saa))\n",
    "print(id(taa),id(saa))\n",
    "print(taa in saa)"
   ]
  },
  {
   "cell_type": "code",
   "execution_count": 119,
   "id": "78eea4c5",
   "metadata": {},
   "outputs": [
    {
     "name": "stdout",
     "output_type": "stream",
     "text": [
      "<class 'bool'>\n",
      "140712611228048 2709417488576\n",
      "False\n"
     ]
    }
   ],
   "source": [
    "# not in operator\n",
    "uaa = [10,20,30]\n",
    "vaa = 20\n",
    "print(type(vaa not in uaa))\n",
    "print(id(vaa),id(uaa))\n",
    "print(vaa not in uaa)"
   ]
  }
 ],
 "metadata": {
  "kernelspec": {
   "display_name": "Python 3 (ipykernel)",
   "language": "python",
   "name": "python3"
  },
  "language_info": {
   "codemirror_mode": {
    "name": "ipython",
    "version": 3
   },
   "file_extension": ".py",
   "mimetype": "text/x-python",
   "name": "python",
   "nbconvert_exporter": "python",
   "pygments_lexer": "ipython3",
   "version": "3.8.8"
  }
 },
 "nbformat": 4,
 "nbformat_minor": 5
}

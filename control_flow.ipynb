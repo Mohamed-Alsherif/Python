{
 "cells": [
  {
   "cell_type": "markdown",
   "id": "de6d8aa6",
   "metadata": {},
   "source": [
    "# Control Flow"
   ]
  },
  {
   "cell_type": "markdown",
   "id": "c7ce350f",
   "metadata": {},
   "source": [
    "- Conditional statements\n",
    "- for and while loop\n",
    "- break and continue statment"
   ]
  },
  {
   "cell_type": "markdown",
   "id": "06c68a47",
   "metadata": {},
   "source": [
    "## Conditional statements"
   ]
  },
  {
   "cell_type": "markdown",
   "id": "197e8e5e",
   "metadata": {},
   "source": [
    "conditions (and, or, not, == , > , >= , < , <=)"
   ]
  },
  {
   "cell_type": "code",
   "execution_count": 2,
   "id": "f99aa911",
   "metadata": {},
   "outputs": [
    {
     "name": "stdout",
     "output_type": "stream",
     "text": [
      "number is not bettween 0 and 20 \n"
     ]
    }
   ],
   "source": [
    "a = 30\n",
    "if a < 10:\n",
    "    print(\"less than 10\")\n",
    "elif a < 20:\n",
    "    print(\"bettween 10 and 20\")\n",
    "else:\n",
    "    print('number is not bettween 0 and 20 ')"
   ]
  },
  {
   "cell_type": "markdown",
   "id": "ec3a5bba",
   "metadata": {},
   "source": [
    "## For Loop"
   ]
  },
  {
   "cell_type": "code",
   "execution_count": 5,
   "id": "d4e56474",
   "metadata": {},
   "outputs": [
    {
     "name": "stdout",
     "output_type": "stream",
     "text": [
      "Saturday\n",
      "Sunday\n",
      "Monday\n",
      "Tuesday\n",
      "Wednesday\n",
      "Thursday\n",
      "Friday\n"
     ]
    }
   ],
   "source": [
    "days = ['Saturday', 'Sunday','Monday', 'Tuesday', 'Wednesday', 'Thursday', 'Friday']\n",
    "for day in days:\n",
    "    print(day)"
   ]
  },
  {
   "cell_type": "code",
   "execution_count": 6,
   "id": "1ea22da4",
   "metadata": {},
   "outputs": [
    {
     "name": "stdout",
     "output_type": "stream",
     "text": [
      "H\n",
      "e\n",
      "l\n",
      "l\n",
      "o\n",
      "!\n"
     ]
    }
   ],
   "source": [
    "sentence = 'Hello!'\n",
    "for letter in sentence:\n",
    "    print(letter)"
   ]
  },
  {
   "cell_type": "code",
   "execution_count": 13,
   "id": "c51c0b17",
   "metadata": {},
   "outputs": [
    {
     "name": "stdout",
     "output_type": "stream",
     "text": [
      "loop1:  0\n",
      "loop1:  1\n",
      "loop1:  2\n",
      "loop1:  3\n",
      "loop1:  4\n",
      "loop2:  1\n",
      "loop2:  2\n",
      "loop2:  3\n",
      "loop2:  4\n",
      "loop3:  1\n",
      "loop3:  2\n",
      "loop3:  3\n",
      "loop3:  4\n",
      "loop4:  5\n",
      "loop4:  4\n",
      "loop4:  3\n",
      "loop4:  2\n",
      "loop4:  1\n"
     ]
    }
   ],
   "source": [
    "for n in range(5):\n",
    "    print(\"loop1: \",n)\n",
    "for n in range(1, 5):\n",
    "    print(\"loop2: \",n)\n",
    "for n in range(1, 5, 1):\n",
    "    print(\"loop3: \",n)\n",
    "for n in range(5, 0, -1):\n",
    "    print(\"loop4: \",n)"
   ]
  },
  {
   "cell_type": "markdown",
   "id": "818a103f",
   "metadata": {},
   "source": [
    "## While Loop"
   ]
  },
  {
   "cell_type": "code",
   "execution_count": 18,
   "id": "34cb44da",
   "metadata": {},
   "outputs": [
    {
     "name": "stdout",
     "output_type": "stream",
     "text": [
      "1\n",
      "2\n",
      "3\n",
      "4\n",
      "5\n"
     ]
    }
   ],
   "source": [
    "j =1\n",
    "while j <= 5:\n",
    "    print(j)\n",
    "    j += 1"
   ]
  },
  {
   "cell_type": "code",
   "execution_count": 16,
   "id": "edd2adac",
   "metadata": {},
   "outputs": [],
   "source": [
    "## infinite loop\n",
    "# while True:\n",
    "#     print('infinite loop!')\n",
    "# while 1 == 1:\n",
    "#     print('infinite loop!')"
   ]
  },
  {
   "cell_type": "markdown",
   "id": "977cda8c",
   "metadata": {},
   "source": [
    "## break statment"
   ]
  },
  {
   "cell_type": "code",
   "execution_count": 20,
   "id": "5e2b87d2",
   "metadata": {},
   "outputs": [
    {
     "name": "stdout",
     "output_type": "stream",
     "text": [
      "0\n",
      "1\n",
      "2\n",
      "3\n",
      "loop stop at n = 3\n"
     ]
    }
   ],
   "source": [
    "for n in range(5):\n",
    "    print(n)\n",
    "    if n == 3:\n",
    "        break\n",
    "print('loop stop at n =', n)"
   ]
  },
  {
   "cell_type": "code",
   "execution_count": 27,
   "id": "3a913409",
   "metadata": {},
   "outputs": [
    {
     "name": "stdout",
     "output_type": "stream",
     "text": [
      "0\n",
      "1\n",
      "2\n",
      "3\n",
      "loop stop at j = 3\n"
     ]
    }
   ],
   "source": [
    "j =0\n",
    "while j <= 5:\n",
    "    print(j)\n",
    "    if j == 3:\n",
    "        break\n",
    "    j += 1\n",
    "print('loop stop at j =', j)"
   ]
  },
  {
   "cell_type": "markdown",
   "id": "4ae12fd6",
   "metadata": {},
   "source": [
    "## continue statment"
   ]
  },
  {
   "cell_type": "code",
   "execution_count": 30,
   "id": "79fdc145",
   "metadata": {},
   "outputs": [
    {
     "name": "stdout",
     "output_type": "stream",
     "text": [
      "0\n",
      "1\n",
      "2\n",
      "3\n",
      "4\n",
      "loop stop at n = 4\n"
     ]
    }
   ],
   "source": [
    "for n in range(5):\n",
    "    print(n)\n",
    "    if n == 3:\n",
    "        continue\n",
    "print('loop stop at n =', n)"
   ]
  },
  {
   "cell_type": "code",
   "execution_count": 34,
   "id": "47cd496d",
   "metadata": {},
   "outputs": [
    {
     "name": "stdout",
     "output_type": "stream",
     "text": [
      "0\n",
      "1\n",
      "2\n",
      "5\n",
      "6\n",
      "7\n",
      "8\n",
      "9\n",
      "10\n",
      "loop stop at j = 11\n"
     ]
    }
   ],
   "source": [
    "j =0\n",
    "while j <= 10:\n",
    "    print(j)\n",
    "    if j == 2:\n",
    "        j = 5\n",
    "        continue\n",
    "    j += 1\n",
    "print('loop stop at j =', j)"
   ]
  }
 ],
 "metadata": {
  "kernelspec": {
   "display_name": "Python 3 (ipykernel)",
   "language": "python",
   "name": "python3"
  },
  "language_info": {
   "codemirror_mode": {
    "name": "ipython",
    "version": 3
   },
   "file_extension": ".py",
   "mimetype": "text/x-python",
   "name": "python",
   "nbconvert_exporter": "python",
   "pygments_lexer": "ipython3",
   "version": "3.8.8"
  }
 },
 "nbformat": 4,
 "nbformat_minor": 5
}
